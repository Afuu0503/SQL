{
    "metadata": {
        "kernelspec": {
            "name": "SQL",
            "display_name": "SQL",
            "language": "sql"
        },
        "language_info": {
            "name": "sql",
            "version": ""
        }
    },
    "nbformat_minor": 2,
    "nbformat": 4,
    "cells": [
        {
            "cell_type": "markdown",
            "source": [
                "<span style=\"background-color: transparent; color: rgb(255, 255, 255); font-family: Arial, sans-serif; font-size: 12pt; white-space: pre-wrap;\">b. Use WHERE to see data_types</span>  \n",
                "<span style=\"font-size: 12pt; font-family: Arial, sans-serif; color: rgb(255, 255, 255); background-color: transparent; font-variant-numeric: normal; font-variant-east-asian: normal; vertical-align: baseline; white-space: pre-wrap;\">Hint: Use FROM INFORMATION_SCHEMA.COLUMNS</span>"
            ],
            "metadata": {
                "language": "sql",
                "azdata_cell_guid": "d6375993-4db1-41fc-846d-bacdafaae834"
            },
            "attachments": {}
        },
        {
            "cell_type": "code",
            "source": [
                "SELECT COLUMN_NAME, DATA_TYPE\r\n",
                "FROM INFORMATION_SCHEMA.COLUMNS\r\n",
                "WHERE TABLE_NAME = 'train_daria';"
            ],
            "metadata": {
                "azdata_cell_guid": "4d2d3334-53a3-42e0-a8af-7d09c3b5e957",
                "language": "sql"
            },
            "outputs": [
                {
                    "output_type": "display_data",
                    "data": {
                        "text/html": "(36 rows affected)"
                    },
                    "metadata": {}
                },
                {
                    "output_type": "display_data",
                    "data": {
                        "text/html": "Total execution time: 00:00:00.103"
                    },
                    "metadata": {}
                },
                {
                    "output_type": "execute_result",
                    "execution_count": 3,
                    "data": {
                        "application/vnd.dataresource+json": {
                            "schema": {
                                "fields": [
                                    {
                                        "name": "COLUMN_NAME"
                                    },
                                    {
                                        "name": "DATA_TYPE"
                                    }
                                ]
                            },
                            "data": [
                                {
                                    "COLUMN_NAME": "row_id",
                                    "DATA_TYPE": "varchar"
                                },
                                {
                                    "COLUMN_NAME": "order_id",
                                    "DATA_TYPE": "varchar"
                                },
                                {
                                    "COLUMN_NAME": "order_date",
                                    "DATA_TYPE": "varchar"
                                },
                                {
                                    "COLUMN_NAME": "ship_date",
                                    "DATA_TYPE": "varchar"
                                },
                                {
                                    "COLUMN_NAME": "ship_mode",
                                    "DATA_TYPE": "varchar"
                                },
                                {
                                    "COLUMN_NAME": "customer_id",
                                    "DATA_TYPE": "varchar"
                                },
                                {
                                    "COLUMN_NAME": "customer_name",
                                    "DATA_TYPE": "varchar"
                                },
                                {
                                    "COLUMN_NAME": "segment",
                                    "DATA_TYPE": "varchar"
                                },
                                {
                                    "COLUMN_NAME": "country",
                                    "DATA_TYPE": "varchar"
                                },
                                {
                                    "COLUMN_NAME": "city",
                                    "DATA_TYPE": "varchar"
                                },
                                {
                                    "COLUMN_NAME": "state",
                                    "DATA_TYPE": "varchar"
                                },
                                {
                                    "COLUMN_NAME": "postal_code",
                                    "DATA_TYPE": "varchar"
                                },
                                {
                                    "COLUMN_NAME": "region",
                                    "DATA_TYPE": "varchar"
                                },
                                {
                                    "COLUMN_NAME": "product_id",
                                    "DATA_TYPE": "varchar"
                                },
                                {
                                    "COLUMN_NAME": "category",
                                    "DATA_TYPE": "varchar"
                                },
                                {
                                    "COLUMN_NAME": "sub_category",
                                    "DATA_TYPE": "varchar"
                                },
                                {
                                    "COLUMN_NAME": "product_name",
                                    "DATA_TYPE": "varchar"
                                },
                                {
                                    "COLUMN_NAME": "sales",
                                    "DATA_TYPE": "varchar"
                                },
                                {
                                    "COLUMN_NAME": "row_id",
                                    "DATA_TYPE": "varchar"
                                },
                                {
                                    "COLUMN_NAME": "order_id",
                                    "DATA_TYPE": "varchar"
                                },
                                {
                                    "COLUMN_NAME": "order_date",
                                    "DATA_TYPE": "varchar"
                                },
                                {
                                    "COLUMN_NAME": "ship_date",
                                    "DATA_TYPE": "varchar"
                                },
                                {
                                    "COLUMN_NAME": "ship_mode",
                                    "DATA_TYPE": "varchar"
                                },
                                {
                                    "COLUMN_NAME": "customer_id",
                                    "DATA_TYPE": "varchar"
                                },
                                {
                                    "COLUMN_NAME": "customer_name",
                                    "DATA_TYPE": "varchar"
                                },
                                {
                                    "COLUMN_NAME": "segment",
                                    "DATA_TYPE": "varchar"
                                },
                                {
                                    "COLUMN_NAME": "country",
                                    "DATA_TYPE": "varchar"
                                },
                                {
                                    "COLUMN_NAME": "city",
                                    "DATA_TYPE": "varchar"
                                },
                                {
                                    "COLUMN_NAME": "state",
                                    "DATA_TYPE": "varchar"
                                },
                                {
                                    "COLUMN_NAME": "postal_code",
                                    "DATA_TYPE": "varchar"
                                },
                                {
                                    "COLUMN_NAME": "region",
                                    "DATA_TYPE": "varchar"
                                },
                                {
                                    "COLUMN_NAME": "product_id",
                                    "DATA_TYPE": "varchar"
                                },
                                {
                                    "COLUMN_NAME": "category",
                                    "DATA_TYPE": "varchar"
                                },
                                {
                                    "COLUMN_NAME": "sub_category",
                                    "DATA_TYPE": "varchar"
                                },
                                {
                                    "COLUMN_NAME": "product_name",
                                    "DATA_TYPE": "varchar"
                                },
                                {
                                    "COLUMN_NAME": "sales",
                                    "DATA_TYPE": "varchar"
                                }
                            ]
                        },
                        "text/html": "<table><tr><th>COLUMN_NAME</th><th>DATA_TYPE</th></tr><tr><td>row_id</td><td>varchar</td></tr><tr><td>order_id</td><td>varchar</td></tr><tr><td>order_date</td><td>varchar</td></tr><tr><td>ship_date</td><td>varchar</td></tr><tr><td>ship_mode</td><td>varchar</td></tr><tr><td>customer_id</td><td>varchar</td></tr><tr><td>customer_name</td><td>varchar</td></tr><tr><td>segment</td><td>varchar</td></tr><tr><td>country</td><td>varchar</td></tr><tr><td>city</td><td>varchar</td></tr><tr><td>state</td><td>varchar</td></tr><tr><td>postal_code</td><td>varchar</td></tr><tr><td>region</td><td>varchar</td></tr><tr><td>product_id</td><td>varchar</td></tr><tr><td>category</td><td>varchar</td></tr><tr><td>sub_category</td><td>varchar</td></tr><tr><td>product_name</td><td>varchar</td></tr><tr><td>sales</td><td>varchar</td></tr><tr><td>row_id</td><td>varchar</td></tr><tr><td>order_id</td><td>varchar</td></tr><tr><td>order_date</td><td>varchar</td></tr><tr><td>ship_date</td><td>varchar</td></tr><tr><td>ship_mode</td><td>varchar</td></tr><tr><td>customer_id</td><td>varchar</td></tr><tr><td>customer_name</td><td>varchar</td></tr><tr><td>segment</td><td>varchar</td></tr><tr><td>country</td><td>varchar</td></tr><tr><td>city</td><td>varchar</td></tr><tr><td>state</td><td>varchar</td></tr><tr><td>postal_code</td><td>varchar</td></tr><tr><td>region</td><td>varchar</td></tr><tr><td>product_id</td><td>varchar</td></tr><tr><td>category</td><td>varchar</td></tr><tr><td>sub_category</td><td>varchar</td></tr><tr><td>product_name</td><td>varchar</td></tr><tr><td>sales</td><td>varchar</td></tr></table>"
                    },
                    "metadata": {}
                }
            ],
            "execution_count": 3
        },
        {
            "cell_type": "markdown",
            "source": [
                "<span style=\"background-color: transparent; color: rgb(255, 255, 255); font-family: Arial, sans-serif; font-size: 11pt; white-space: pre-wrap;\">d. Now we’re going to COUNT sales for every state 🙂&nbsp;</span>   \n",
                "<span style=\"background-color: transparent; color: rgb(255, 255, 255); font-family: Arial, sans-serif; font-size: 11pt; white-space: pre-wrap;\">e. Use SUM, AVG and COUNT to see sales from different states</span>"
            ],
            "metadata": {
                "language": "sql",
                "azdata_cell_guid": "1a8edc9e-a8c3-45ed-87fc-20a9fe51f6c9"
            },
            "attachments": {}
        },
        {
            "cell_type": "code",
            "source": [
                "SELECT [state], COUNT(sales) as count_sales\r\n",
                "FROM sandbox.train_daria\r\n",
                "GROUP BY [state];"
            ],
            "metadata": {
                "language": "sql",
                "azdata_cell_guid": "188d968e-baec-417b-931f-66ab5f48453b",
                "tags": []
            },
            "outputs": [
                {
                    "output_type": "display_data",
                    "data": {
                        "text/html": "(49 rows affected)"
                    },
                    "metadata": {}
                },
                {
                    "output_type": "display_data",
                    "data": {
                        "text/html": "Total execution time: 00:00:00.074"
                    },
                    "metadata": {}
                },
                {
                    "output_type": "execute_result",
                    "execution_count": 56,
                    "data": {
                        "application/vnd.dataresource+json": {
                            "schema": {
                                "fields": [
                                    {
                                        "name": "state"
                                    },
                                    {
                                        "name": "count_sales"
                                    }
                                ]
                            },
                            "data": [
                                {
                                    "state": "Illinois",
                                    "count_sales": "483"
                                },
                                {
                                    "state": "Oklahoma",
                                    "count_sales": "66"
                                },
                                {
                                    "state": "Wisconsin",
                                    "count_sales": "105"
                                },
                                {
                                    "state": "Pennsylvania",
                                    "count_sales": "582"
                                },
                                {
                                    "state": "Maine",
                                    "count_sales": "8"
                                },
                                {
                                    "state": "Massachusetts",
                                    "count_sales": "135"
                                },
                                {
                                    "state": "Ohio",
                                    "count_sales": "454"
                                },
                                {
                                    "state": "Arizona",
                                    "count_sales": "223"
                                },
                                {
                                    "state": "Oregon",
                                    "count_sales": "122"
                                },
                                {
                                    "state": "Wyoming",
                                    "count_sales": "1"
                                },
                                {
                                    "state": "Louisiana",
                                    "count_sales": "41"
                                },
                                {
                                    "state": "New Hampshire",
                                    "count_sales": "27"
                                },
                                {
                                    "state": "Virginia",
                                    "count_sales": "224"
                                },
                                {
                                    "state": "New York",
                                    "count_sales": "1097"
                                },
                                {
                                    "state": "South Dakota",
                                    "count_sales": "12"
                                },
                                {
                                    "state": "Maryland",
                                    "count_sales": "105"
                                },
                                {
                                    "state": "California",
                                    "count_sales": "1946"
                                },
                                {
                                    "state": "Missouri",
                                    "count_sales": "66"
                                },
                                {
                                    "state": "Minnesota",
                                    "count_sales": "89"
                                },
                                {
                                    "state": "District of Columbia",
                                    "count_sales": "10"
                                },
                                {
                                    "state": "Florida",
                                    "count_sales": "373"
                                },
                                {
                                    "state": "Indiana",
                                    "count_sales": "135"
                                },
                                {
                                    "state": "Washington",
                                    "count_sales": "504"
                                },
                                {
                                    "state": "Delaware",
                                    "count_sales": "93"
                                },
                                {
                                    "state": "North Dakota",
                                    "count_sales": "7"
                                },
                                {
                                    "state": "Connecticut",
                                    "count_sales": "82"
                                },
                                {
                                    "state": "New Jersey",
                                    "count_sales": "122"
                                },
                                {
                                    "state": "Michigan",
                                    "count_sales": "253"
                                },
                                {
                                    "state": "Iowa",
                                    "count_sales": "26"
                                },
                                {
                                    "state": "North Carolina",
                                    "count_sales": "247"
                                },
                                {
                                    "state": "Vermont",
                                    "count_sales": "11"
                                },
                                {
                                    "state": "Idaho",
                                    "count_sales": "21"
                                },
                                {
                                    "state": "Georgia",
                                    "count_sales": "177"
                                },
                                {
                                    "state": "Nebraska",
                                    "count_sales": "38"
                                },
                                {
                                    "state": "Mississippi",
                                    "count_sales": "53"
                                },
                                {
                                    "state": "Colorado",
                                    "count_sales": "179"
                                },
                                {
                                    "state": "Texas",
                                    "count_sales": "973"
                                },
                                {
                                    "state": "South Carolina",
                                    "count_sales": "42"
                                },
                                {
                                    "state": "West Virginia",
                                    "count_sales": "4"
                                },
                                {
                                    "state": "Montana",
                                    "count_sales": "15"
                                },
                                {
                                    "state": "Utah",
                                    "count_sales": "53"
                                },
                                {
                                    "state": "Alabama",
                                    "count_sales": "61"
                                },
                                {
                                    "state": "Tennessee",
                                    "count_sales": "183"
                                },
                                {
                                    "state": "Rhode Island",
                                    "count_sales": "55"
                                },
                                {
                                    "state": "Arkansas",
                                    "count_sales": "60"
                                },
                                {
                                    "state": "Nevada",
                                    "count_sales": "39"
                                },
                                {
                                    "state": "Kansas",
                                    "count_sales": "24"
                                },
                                {
                                    "state": "Kentucky",
                                    "count_sales": "137"
                                },
                                {
                                    "state": "New Mexico",
                                    "count_sales": "37"
                                }
                            ]
                        },
                        "text/html": "<table><tr><th>state</th><th>count_sales</th></tr><tr><td>Illinois</td><td>483</td></tr><tr><td>Oklahoma</td><td>66</td></tr><tr><td>Wisconsin</td><td>105</td></tr><tr><td>Pennsylvania</td><td>582</td></tr><tr><td>Maine</td><td>8</td></tr><tr><td>Massachusetts</td><td>135</td></tr><tr><td>Ohio</td><td>454</td></tr><tr><td>Arizona</td><td>223</td></tr><tr><td>Oregon</td><td>122</td></tr><tr><td>Wyoming</td><td>1</td></tr><tr><td>Louisiana</td><td>41</td></tr><tr><td>New Hampshire</td><td>27</td></tr><tr><td>Virginia</td><td>224</td></tr><tr><td>New York</td><td>1097</td></tr><tr><td>South Dakota</td><td>12</td></tr><tr><td>Maryland</td><td>105</td></tr><tr><td>California</td><td>1946</td></tr><tr><td>Missouri</td><td>66</td></tr><tr><td>Minnesota</td><td>89</td></tr><tr><td>District of Columbia</td><td>10</td></tr><tr><td>Florida</td><td>373</td></tr><tr><td>Indiana</td><td>135</td></tr><tr><td>Washington</td><td>504</td></tr><tr><td>Delaware</td><td>93</td></tr><tr><td>North Dakota</td><td>7</td></tr><tr><td>Connecticut</td><td>82</td></tr><tr><td>New Jersey</td><td>122</td></tr><tr><td>Michigan</td><td>253</td></tr><tr><td>Iowa</td><td>26</td></tr><tr><td>North Carolina</td><td>247</td></tr><tr><td>Vermont</td><td>11</td></tr><tr><td>Idaho</td><td>21</td></tr><tr><td>Georgia</td><td>177</td></tr><tr><td>Nebraska</td><td>38</td></tr><tr><td>Mississippi</td><td>53</td></tr><tr><td>Colorado</td><td>179</td></tr><tr><td>Texas</td><td>973</td></tr><tr><td>South Carolina</td><td>42</td></tr><tr><td>West Virginia</td><td>4</td></tr><tr><td>Montana</td><td>15</td></tr><tr><td>Utah</td><td>53</td></tr><tr><td>Alabama</td><td>61</td></tr><tr><td>Tennessee</td><td>183</td></tr><tr><td>Rhode Island</td><td>55</td></tr><tr><td>Arkansas</td><td>60</td></tr><tr><td>Nevada</td><td>39</td></tr><tr><td>Kansas</td><td>24</td></tr><tr><td>Kentucky</td><td>137</td></tr><tr><td>New Mexico</td><td>37</td></tr></table>"
                    },
                    "metadata": {}
                }
            ],
            "execution_count": 56
        },
        {
            "cell_type": "code",
            "source": [
                "SELECT [state], AVG(sales) as avg_sales\r\n",
                "FROM sandbox.train_daria\r\n",
                "GROUP BY [state];"
            ],
            "metadata": {
                "language": "sql",
                "azdata_cell_guid": "4e4f5559-5517-4623-a010-dc266681a54e"
            },
            "outputs": [
                {
                    "output_type": "display_data",
                    "data": {
                        "text/html": "(49 rows affected)"
                    },
                    "metadata": {}
                },
                {
                    "output_type": "display_data",
                    "data": {
                        "text/html": "Total execution time: 00:00:00.082"
                    },
                    "metadata": {}
                },
                {
                    "output_type": "execute_result",
                    "execution_count": 55,
                    "data": {
                        "application/vnd.dataresource+json": {
                            "schema": {
                                "fields": [
                                    {
                                        "name": "state"
                                    },
                                    {
                                        "name": "avg_sales"
                                    }
                                ]
                            },
                            "data": [
                                {
                                    "state": "Illinois",
                                    "avg_sales": "164.05075983436845"
                                },
                                {
                                    "state": "Oklahoma",
                                    "avg_sales": "298.2331818181818"
                                },
                                {
                                    "state": "Wisconsin",
                                    "avg_sales": "296.8898095238097"
                                },
                                {
                                    "state": "Pennsylvania",
                                    "avg_sales": "199.78805841924387"
                                },
                                {
                                    "state": "Maine",
                                    "avg_sales": "158.81625"
                                },
                                {
                                    "state": "Massachusetts",
                                    "avg_sales": "212.10691851851848"
                                },
                                {
                                    "state": "Ohio",
                                    "avg_sales": "165.4853524229074"
                                },
                                {
                                    "state": "Arizona",
                                    "avg_sales": "158.17334977578486"
                                },
                                {
                                    "state": "Oregon",
                                    "avg_sales": "141.67591803278683"
                                },
                                {
                                    "state": "Wyoming",
                                    "avg_sales": "1603.136"
                                },
                                {
                                    "state": "Louisiana",
                                    "avg_sales": "222.7085365853659"
                                },
                                {
                                    "state": "New Hampshire",
                                    "avg_sales": "270.09348148148143"
                                },
                                {
                                    "state": "Virginia",
                                    "avg_sales": "315.3425000000001"
                                },
                                {
                                    "state": "New York",
                                    "avg_sales": "279.2717839562449"
                                },
                                {
                                    "state": "South Dakota",
                                    "avg_sales": "109.63000000000001"
                                },
                                {
                                    "state": "Maryland",
                                    "avg_sales": "225.76688571428573"
                                },
                                {
                                    "state": "California",
                                    "avg_sales": "229.34556192189157"
                                },
                                {
                                    "state": "Missouri",
                                    "avg_sales": "336.44166666666666"
                                },
                                {
                                    "state": "Minnesota",
                                    "avg_sales": "335.541011235955"
                                },
                                {
                                    "state": "District of Columbia",
                                    "avg_sales": "286.502"
                                },
                                {
                                    "state": "Florida",
                                    "avg_sales": "237.09526005361917"
                                },
                                {
                                    "state": "Indiana",
                                    "avg_sales": "360.8770370370372"
                                },
                                {
                                    "state": "Washington",
                                    "avg_sales": "268.26755952380944"
                                },
                                {
                                    "state": "Delaware",
                                    "avg_sales": "293.79568817204296"
                                },
                                {
                                    "state": "North Dakota",
                                    "avg_sales": "131.41571428571427"
                                },
                                {
                                    "state": "Connecticut",
                                    "avg_sales": "163.2238658536585"
                                },
                                {
                                    "state": "New Jersey",
                                    "avg_sales": "283.6964918032788"
                                },
                                {
                                    "state": "Michigan",
                                    "avg_sales": "300.9330988142294"
                                },
                                {
                                    "state": "Iowa",
                                    "avg_sales": "170.90615384615387"
                                },
                                {
                                    "state": "North Carolina",
                                    "avg_sales": "223.34398380566793"
                                },
                                {
                                    "state": "Vermont",
                                    "avg_sales": "811.7609090909092"
                                },
                                {
                                    "state": "Idaho",
                                    "avg_sales": "208.68980952380952"
                                },
                                {
                                    "state": "Georgia",
                                    "avg_sales": "272.4243502824859"
                                },
                                {
                                    "state": "Nebraska",
                                    "avg_sales": "196.4455263157895"
                                },
                                {
                                    "state": "Mississippi",
                                    "avg_sales": "203.2328301886792"
                                },
                                {
                                    "state": "Colorado",
                                    "avg_sales": "177.8860223463687"
                                },
                                {
                                    "state": "Texas",
                                    "avg_sales": "173.25029003083236"
                                },
                                {
                                    "state": "South Carolina",
                                    "avg_sales": "201.94547619047617"
                                },
                                {
                                    "state": "West Virginia",
                                    "avg_sales": "302.456"
                                },
                                {
                                    "state": "Montana",
                                    "avg_sales": "372.6234666666665"
                                },
                                {
                                    "state": "Utah",
                                    "avg_sales": "211.69916981132076"
                                },
                                {
                                    "state": "Alabama",
                                    "avg_sales": "319.8465573770491"
                                },
                                {
                                    "state": "Tennessee",
                                    "avg_sales": "167.5512185792348"
                                },
                                {
                                    "state": "Rhode Island",
                                    "avg_sales": "409.5459272727271"
                                },
                                {
                                    "state": "Arkansas",
                                    "avg_sales": "194.6355"
                                },
                                {
                                    "state": "Nevada",
                                    "avg_sales": "428.9513333333334"
                                },
                                {
                                    "state": "Kansas",
                                    "avg_sales": "121.42958333333333"
                                },
                                {
                                    "state": "Kentucky",
                                    "avg_sales": "266.1196350364962"
                                },
                                {
                                    "state": "New Mexico",
                                    "avg_sales": "129.28437837837836"
                                }
                            ]
                        },
                        "text/html": "<table><tr><th>state</th><th>avg_sales</th></tr><tr><td>Illinois</td><td>164.05075983436845</td></tr><tr><td>Oklahoma</td><td>298.2331818181818</td></tr><tr><td>Wisconsin</td><td>296.8898095238097</td></tr><tr><td>Pennsylvania</td><td>199.78805841924387</td></tr><tr><td>Maine</td><td>158.81625</td></tr><tr><td>Massachusetts</td><td>212.10691851851848</td></tr><tr><td>Ohio</td><td>165.4853524229074</td></tr><tr><td>Arizona</td><td>158.17334977578486</td></tr><tr><td>Oregon</td><td>141.67591803278683</td></tr><tr><td>Wyoming</td><td>1603.136</td></tr><tr><td>Louisiana</td><td>222.7085365853659</td></tr><tr><td>New Hampshire</td><td>270.09348148148143</td></tr><tr><td>Virginia</td><td>315.3425000000001</td></tr><tr><td>New York</td><td>279.2717839562449</td></tr><tr><td>South Dakota</td><td>109.63000000000001</td></tr><tr><td>Maryland</td><td>225.76688571428573</td></tr><tr><td>California</td><td>229.34556192189157</td></tr><tr><td>Missouri</td><td>336.44166666666666</td></tr><tr><td>Minnesota</td><td>335.541011235955</td></tr><tr><td>District of Columbia</td><td>286.502</td></tr><tr><td>Florida</td><td>237.09526005361917</td></tr><tr><td>Indiana</td><td>360.8770370370372</td></tr><tr><td>Washington</td><td>268.26755952380944</td></tr><tr><td>Delaware</td><td>293.79568817204296</td></tr><tr><td>North Dakota</td><td>131.41571428571427</td></tr><tr><td>Connecticut</td><td>163.2238658536585</td></tr><tr><td>New Jersey</td><td>283.6964918032788</td></tr><tr><td>Michigan</td><td>300.9330988142294</td></tr><tr><td>Iowa</td><td>170.90615384615387</td></tr><tr><td>North Carolina</td><td>223.34398380566793</td></tr><tr><td>Vermont</td><td>811.7609090909092</td></tr><tr><td>Idaho</td><td>208.68980952380952</td></tr><tr><td>Georgia</td><td>272.4243502824859</td></tr><tr><td>Nebraska</td><td>196.4455263157895</td></tr><tr><td>Mississippi</td><td>203.2328301886792</td></tr><tr><td>Colorado</td><td>177.8860223463687</td></tr><tr><td>Texas</td><td>173.25029003083236</td></tr><tr><td>South Carolina</td><td>201.94547619047617</td></tr><tr><td>West Virginia</td><td>302.456</td></tr><tr><td>Montana</td><td>372.6234666666665</td></tr><tr><td>Utah</td><td>211.69916981132076</td></tr><tr><td>Alabama</td><td>319.8465573770491</td></tr><tr><td>Tennessee</td><td>167.5512185792348</td></tr><tr><td>Rhode Island</td><td>409.5459272727271</td></tr><tr><td>Arkansas</td><td>194.6355</td></tr><tr><td>Nevada</td><td>428.9513333333334</td></tr><tr><td>Kansas</td><td>121.42958333333333</td></tr><tr><td>Kentucky</td><td>266.1196350364962</td></tr><tr><td>New Mexico</td><td>129.28437837837836</td></tr></table>"
                    },
                    "metadata": {}
                }
            ],
            "execution_count": 55
        },
        {
            "cell_type": "code",
            "source": [
                "SELECT [state], SUM(sales) as sum_sales\r\n",
                "FROM sandbox.train_daria\r\n",
                "GROUP BY [state];"
            ],
            "metadata": {
                "language": "sql",
                "azdata_cell_guid": "7a4609af-fe88-498a-92d4-50beea223489",
                "tags": []
            },
            "outputs": [
                {
                    "output_type": "display_data",
                    "data": {
                        "text/html": "(49 rows affected)"
                    },
                    "metadata": {}
                },
                {
                    "output_type": "display_data",
                    "data": {
                        "text/html": "Total execution time: 00:00:00.086"
                    },
                    "metadata": {}
                },
                {
                    "output_type": "execute_result",
                    "execution_count": 54,
                    "data": {
                        "application/vnd.dataresource+json": {
                            "schema": {
                                "fields": [
                                    {
                                        "name": "state"
                                    },
                                    {
                                        "name": "sum_sales"
                                    }
                                ]
                            },
                            "data": [
                                {
                                    "state": "Illinois",
                                    "sum_sales": "79236.51699999996"
                                },
                                {
                                    "state": "Oklahoma",
                                    "sum_sales": "19683.389999999996"
                                },
                                {
                                    "state": "Wisconsin",
                                    "sum_sales": "31173.430000000015"
                                },
                                {
                                    "state": "Pennsylvania",
                                    "sum_sales": "116276.64999999994"
                                },
                                {
                                    "state": "Maine",
                                    "sum_sales": "1270.53"
                                },
                                {
                                    "state": "Massachusetts",
                                    "sum_sales": "28634.433999999994"
                                },
                                {
                                    "state": "Ohio",
                                    "sum_sales": "75130.34999999996"
                                },
                                {
                                    "state": "Arizona",
                                    "sum_sales": "35272.65700000002"
                                },
                                {
                                    "state": "Oregon",
                                    "sum_sales": "17284.461999999992"
                                },
                                {
                                    "state": "Wyoming",
                                    "sum_sales": "1603.136"
                                },
                                {
                                    "state": "Louisiana",
                                    "sum_sales": "9131.050000000001"
                                },
                                {
                                    "state": "New Hampshire",
                                    "sum_sales": "7292.5239999999985"
                                },
                                {
                                    "state": "Virginia",
                                    "sum_sales": "70636.72000000002"
                                },
                                {
                                    "state": "New York",
                                    "sum_sales": "306361.1470000007"
                                },
                                {
                                    "state": "South Dakota",
                                    "sum_sales": "1315.5600000000002"
                                },
                                {
                                    "state": "Maryland",
                                    "sum_sales": "23705.523"
                                },
                                {
                                    "state": "California",
                                    "sum_sales": "446306.463500001"
                                },
                                {
                                    "state": "Missouri",
                                    "sum_sales": "22205.15"
                                },
                                {
                                    "state": "Minnesota",
                                    "sum_sales": "29863.149999999994"
                                },
                                {
                                    "state": "District of Columbia",
                                    "sum_sales": "2865.02"
                                },
                                {
                                    "state": "Florida",
                                    "sum_sales": "88436.53199999995"
                                },
                                {
                                    "state": "Indiana",
                                    "sum_sales": "48718.40000000002"
                                },
                                {
                                    "state": "Washington",
                                    "sum_sales": "135206.84999999995"
                                },
                                {
                                    "state": "Delaware",
                                    "sum_sales": "27322.998999999996"
                                },
                                {
                                    "state": "North Dakota",
                                    "sum_sales": "919.91"
                                },
                                {
                                    "state": "Connecticut",
                                    "sum_sales": "13384.356999999998"
                                },
                                {
                                    "state": "New Jersey",
                                    "sum_sales": "34610.97200000001"
                                },
                                {
                                    "state": "Michigan",
                                    "sum_sales": "76136.07400000005"
                                },
                                {
                                    "state": "Iowa",
                                    "sum_sales": "4443.56"
                                },
                                {
                                    "state": "North Carolina",
                                    "sum_sales": "55165.96399999998"
                                },
                                {
                                    "state": "Vermont",
                                    "sum_sales": "8929.37"
                                },
                                {
                                    "state": "Idaho",
                                    "sum_sales": "4382.486"
                                },
                                {
                                    "state": "Georgia",
                                    "sum_sales": "48219.11"
                                },
                                {
                                    "state": "Nebraska",
                                    "sum_sales": "7464.930000000001"
                                },
                                {
                                    "state": "Mississippi",
                                    "sum_sales": "10771.339999999998"
                                },
                                {
                                    "state": "Colorado",
                                    "sum_sales": "31841.597999999994"
                                },
                                {
                                    "state": "Texas",
                                    "sum_sales": "168572.5321999999"
                                },
                                {
                                    "state": "South Carolina",
                                    "sum_sales": "8481.71"
                                },
                                {
                                    "state": "West Virginia",
                                    "sum_sales": "1209.824"
                                },
                                {
                                    "state": "Montana",
                                    "sum_sales": "5589.351999999997"
                                },
                                {
                                    "state": "Utah",
                                    "sum_sales": "11220.056"
                                },
                                {
                                    "state": "Alabama",
                                    "sum_sales": "19510.639999999996"
                                },
                                {
                                    "state": "Tennessee",
                                    "sum_sales": "30661.87299999997"
                                },
                                {
                                    "state": "Rhode Island",
                                    "sum_sales": "22525.02599999999"
                                },
                                {
                                    "state": "Arkansas",
                                    "sum_sales": "11678.130000000001"
                                },
                                {
                                    "state": "Nevada",
                                    "sum_sales": "16729.102000000003"
                                },
                                {
                                    "state": "Kansas",
                                    "sum_sales": "2914.31"
                                },
                                {
                                    "state": "Kentucky",
                                    "sum_sales": "36458.389999999985"
                                },
                                {
                                    "state": "New Mexico",
                                    "sum_sales": "4783.521999999999"
                                }
                            ]
                        },
                        "text/html": "<table><tr><th>state</th><th>sum_sales</th></tr><tr><td>Illinois</td><td>79236.51699999996</td></tr><tr><td>Oklahoma</td><td>19683.389999999996</td></tr><tr><td>Wisconsin</td><td>31173.430000000015</td></tr><tr><td>Pennsylvania</td><td>116276.64999999994</td></tr><tr><td>Maine</td><td>1270.53</td></tr><tr><td>Massachusetts</td><td>28634.433999999994</td></tr><tr><td>Ohio</td><td>75130.34999999996</td></tr><tr><td>Arizona</td><td>35272.65700000002</td></tr><tr><td>Oregon</td><td>17284.461999999992</td></tr><tr><td>Wyoming</td><td>1603.136</td></tr><tr><td>Louisiana</td><td>9131.050000000001</td></tr><tr><td>New Hampshire</td><td>7292.5239999999985</td></tr><tr><td>Virginia</td><td>70636.72000000002</td></tr><tr><td>New York</td><td>306361.1470000007</td></tr><tr><td>South Dakota</td><td>1315.5600000000002</td></tr><tr><td>Maryland</td><td>23705.523</td></tr><tr><td>California</td><td>446306.463500001</td></tr><tr><td>Missouri</td><td>22205.15</td></tr><tr><td>Minnesota</td><td>29863.149999999994</td></tr><tr><td>District of Columbia</td><td>2865.02</td></tr><tr><td>Florida</td><td>88436.53199999995</td></tr><tr><td>Indiana</td><td>48718.40000000002</td></tr><tr><td>Washington</td><td>135206.84999999995</td></tr><tr><td>Delaware</td><td>27322.998999999996</td></tr><tr><td>North Dakota</td><td>919.91</td></tr><tr><td>Connecticut</td><td>13384.356999999998</td></tr><tr><td>New Jersey</td><td>34610.97200000001</td></tr><tr><td>Michigan</td><td>76136.07400000005</td></tr><tr><td>Iowa</td><td>4443.56</td></tr><tr><td>North Carolina</td><td>55165.96399999998</td></tr><tr><td>Vermont</td><td>8929.37</td></tr><tr><td>Idaho</td><td>4382.486</td></tr><tr><td>Georgia</td><td>48219.11</td></tr><tr><td>Nebraska</td><td>7464.930000000001</td></tr><tr><td>Mississippi</td><td>10771.339999999998</td></tr><tr><td>Colorado</td><td>31841.597999999994</td></tr><tr><td>Texas</td><td>168572.5321999999</td></tr><tr><td>South Carolina</td><td>8481.71</td></tr><tr><td>West Virginia</td><td>1209.824</td></tr><tr><td>Montana</td><td>5589.351999999997</td></tr><tr><td>Utah</td><td>11220.056</td></tr><tr><td>Alabama</td><td>19510.639999999996</td></tr><tr><td>Tennessee</td><td>30661.87299999997</td></tr><tr><td>Rhode Island</td><td>22525.02599999999</td></tr><tr><td>Arkansas</td><td>11678.130000000001</td></tr><tr><td>Nevada</td><td>16729.102000000003</td></tr><tr><td>Kansas</td><td>2914.31</td></tr><tr><td>Kentucky</td><td>36458.389999999985</td></tr><tr><td>New Mexico</td><td>4783.521999999999</td></tr></table>"
                    },
                    "metadata": {}
                }
            ],
            "execution_count": 54
        },
        {
            "cell_type": "markdown",
            "source": [
                "<span style=\"font-size: 11pt; font-family: Arial, sans-serif; color: rgb(255, 255, 255); background-color: transparent; font-variant-numeric: normal; font-variant-east-asian: normal; vertical-align: baseline; white-space: pre-wrap;\">f. Computed average GROUP by state and see only results bigger than 200 using HAVING</span>"
            ],
            "metadata": {
                "language": "sql",
                "azdata_cell_guid": "05adf3d6-3e42-415a-8090-37916fb53041"
            },
            "attachments": {}
        },
        {
            "cell_type": "code",
            "source": [
                "SELECT [state], AVG(sales) as avg_sales\r\n",
                "FROM sandbox.train_daria\r\n",
                "GROUP BY [state]\r\n",
                "HAVING AVG(sales) > 200;"
            ],
            "metadata": {
                "language": "sql",
                "azdata_cell_guid": "49c09dfd-cfdf-491f-afdc-de2a2675dc1e"
            },
            "outputs": [
                {
                    "output_type": "display_data",
                    "data": {
                        "text/html": "(32 rows affected)"
                    },
                    "metadata": {}
                },
                {
                    "output_type": "display_data",
                    "data": {
                        "text/html": "Total execution time: 00:00:00.084"
                    },
                    "metadata": {}
                },
                {
                    "output_type": "execute_result",
                    "execution_count": 59,
                    "data": {
                        "application/vnd.dataresource+json": {
                            "schema": {
                                "fields": [
                                    {
                                        "name": "state"
                                    },
                                    {
                                        "name": "avg_sales"
                                    }
                                ]
                            },
                            "data": [
                                {
                                    "state": "Oklahoma",
                                    "avg_sales": "298.2331818181818"
                                },
                                {
                                    "state": "Wisconsin",
                                    "avg_sales": "296.8898095238097"
                                },
                                {
                                    "state": "Massachusetts",
                                    "avg_sales": "212.10691851851848"
                                },
                                {
                                    "state": "Wyoming",
                                    "avg_sales": "1603.136"
                                },
                                {
                                    "state": "Louisiana",
                                    "avg_sales": "222.7085365853659"
                                },
                                {
                                    "state": "New Hampshire",
                                    "avg_sales": "270.09348148148143"
                                },
                                {
                                    "state": "Virginia",
                                    "avg_sales": "315.3425000000001"
                                },
                                {
                                    "state": "New York",
                                    "avg_sales": "279.2717839562449"
                                },
                                {
                                    "state": "Maryland",
                                    "avg_sales": "225.76688571428573"
                                },
                                {
                                    "state": "California",
                                    "avg_sales": "229.34556192189157"
                                },
                                {
                                    "state": "Missouri",
                                    "avg_sales": "336.44166666666666"
                                },
                                {
                                    "state": "Minnesota",
                                    "avg_sales": "335.541011235955"
                                },
                                {
                                    "state": "District of Columbia",
                                    "avg_sales": "286.502"
                                },
                                {
                                    "state": "Florida",
                                    "avg_sales": "237.09526005361917"
                                },
                                {
                                    "state": "Indiana",
                                    "avg_sales": "360.8770370370372"
                                },
                                {
                                    "state": "Washington",
                                    "avg_sales": "268.26755952380944"
                                },
                                {
                                    "state": "Delaware",
                                    "avg_sales": "293.79568817204296"
                                },
                                {
                                    "state": "New Jersey",
                                    "avg_sales": "283.6964918032788"
                                },
                                {
                                    "state": "Michigan",
                                    "avg_sales": "300.9330988142294"
                                },
                                {
                                    "state": "North Carolina",
                                    "avg_sales": "223.34398380566793"
                                },
                                {
                                    "state": "Vermont",
                                    "avg_sales": "811.7609090909092"
                                },
                                {
                                    "state": "Idaho",
                                    "avg_sales": "208.68980952380952"
                                },
                                {
                                    "state": "Georgia",
                                    "avg_sales": "272.4243502824859"
                                },
                                {
                                    "state": "Mississippi",
                                    "avg_sales": "203.2328301886792"
                                },
                                {
                                    "state": "South Carolina",
                                    "avg_sales": "201.94547619047617"
                                },
                                {
                                    "state": "West Virginia",
                                    "avg_sales": "302.456"
                                },
                                {
                                    "state": "Montana",
                                    "avg_sales": "372.6234666666665"
                                },
                                {
                                    "state": "Utah",
                                    "avg_sales": "211.69916981132076"
                                },
                                {
                                    "state": "Alabama",
                                    "avg_sales": "319.8465573770491"
                                },
                                {
                                    "state": "Rhode Island",
                                    "avg_sales": "409.5459272727271"
                                },
                                {
                                    "state": "Nevada",
                                    "avg_sales": "428.9513333333334"
                                },
                                {
                                    "state": "Kentucky",
                                    "avg_sales": "266.1196350364962"
                                }
                            ]
                        },
                        "text/html": "<table><tr><th>state</th><th>avg_sales</th></tr><tr><td>Oklahoma</td><td>298.2331818181818</td></tr><tr><td>Wisconsin</td><td>296.8898095238097</td></tr><tr><td>Massachusetts</td><td>212.10691851851848</td></tr><tr><td>Wyoming</td><td>1603.136</td></tr><tr><td>Louisiana</td><td>222.7085365853659</td></tr><tr><td>New Hampshire</td><td>270.09348148148143</td></tr><tr><td>Virginia</td><td>315.3425000000001</td></tr><tr><td>New York</td><td>279.2717839562449</td></tr><tr><td>Maryland</td><td>225.76688571428573</td></tr><tr><td>California</td><td>229.34556192189157</td></tr><tr><td>Missouri</td><td>336.44166666666666</td></tr><tr><td>Minnesota</td><td>335.541011235955</td></tr><tr><td>District of Columbia</td><td>286.502</td></tr><tr><td>Florida</td><td>237.09526005361917</td></tr><tr><td>Indiana</td><td>360.8770370370372</td></tr><tr><td>Washington</td><td>268.26755952380944</td></tr><tr><td>Delaware</td><td>293.79568817204296</td></tr><tr><td>New Jersey</td><td>283.6964918032788</td></tr><tr><td>Michigan</td><td>300.9330988142294</td></tr><tr><td>North Carolina</td><td>223.34398380566793</td></tr><tr><td>Vermont</td><td>811.7609090909092</td></tr><tr><td>Idaho</td><td>208.68980952380952</td></tr><tr><td>Georgia</td><td>272.4243502824859</td></tr><tr><td>Mississippi</td><td>203.2328301886792</td></tr><tr><td>South Carolina</td><td>201.94547619047617</td></tr><tr><td>West Virginia</td><td>302.456</td></tr><tr><td>Montana</td><td>372.6234666666665</td></tr><tr><td>Utah</td><td>211.69916981132076</td></tr><tr><td>Alabama</td><td>319.8465573770491</td></tr><tr><td>Rhode Island</td><td>409.5459272727271</td></tr><tr><td>Nevada</td><td>428.9513333333334</td></tr><tr><td>Kentucky</td><td>266.1196350364962</td></tr></table>"
                    },
                    "metadata": {}
                }
            ],
            "execution_count": 59
        },
        {
            "cell_type": "markdown",
            "source": [
                "<span style=\"font-size: 11pt; font-family: Arial, sans-serif; color: rgb(255, 255, 255); background-color: transparent; font-variant-numeric: normal; font-variant-east-asian: normal; vertical-align: baseline; white-space: pre-wrap;\">g. Use ORDER BY to see records from the highest (DESC) or lowest (ASC)</span>"
            ],
            "metadata": {
                "language": "sql",
                "azdata_cell_guid": "4800824d-65f6-4878-8592-5102ca8f53c1"
            },
            "attachments": {}
        },
        {
            "cell_type": "code",
            "source": [
                "SELECT [state], AVG(sales) as avg_sales\r\n",
                "FROM sandbox.train_daria\r\n",
                "GROUP BY [state]\r\n",
                "HAVING AVG(sales) > 200\r\n",
                "ORDER BY AVG(sales) DESC;"
            ],
            "metadata": {
                "language": "sql",
                "azdata_cell_guid": "fdcd6a20-d764-46e8-bb1a-8d2c343f3073"
            },
            "outputs": [
                {
                    "output_type": "display_data",
                    "data": {
                        "text/html": "(32 rows affected)"
                    },
                    "metadata": {}
                },
                {
                    "output_type": "display_data",
                    "data": {
                        "text/html": "Total execution time: 00:00:00.085"
                    },
                    "metadata": {}
                },
                {
                    "output_type": "execute_result",
                    "execution_count": 60,
                    "data": {
                        "application/vnd.dataresource+json": {
                            "schema": {
                                "fields": [
                                    {
                                        "name": "state"
                                    },
                                    {
                                        "name": "avg_sales"
                                    }
                                ]
                            },
                            "data": [
                                {
                                    "state": "Wyoming",
                                    "avg_sales": "1603.136"
                                },
                                {
                                    "state": "Vermont",
                                    "avg_sales": "811.7609090909092"
                                },
                                {
                                    "state": "Nevada",
                                    "avg_sales": "428.9513333333334"
                                },
                                {
                                    "state": "Rhode Island",
                                    "avg_sales": "409.5459272727271"
                                },
                                {
                                    "state": "Montana",
                                    "avg_sales": "372.6234666666665"
                                },
                                {
                                    "state": "Indiana",
                                    "avg_sales": "360.8770370370372"
                                },
                                {
                                    "state": "Missouri",
                                    "avg_sales": "336.44166666666666"
                                },
                                {
                                    "state": "Minnesota",
                                    "avg_sales": "335.541011235955"
                                },
                                {
                                    "state": "Alabama",
                                    "avg_sales": "319.8465573770491"
                                },
                                {
                                    "state": "Virginia",
                                    "avg_sales": "315.3425000000001"
                                },
                                {
                                    "state": "West Virginia",
                                    "avg_sales": "302.456"
                                },
                                {
                                    "state": "Michigan",
                                    "avg_sales": "300.9330988142294"
                                },
                                {
                                    "state": "Oklahoma",
                                    "avg_sales": "298.2331818181818"
                                },
                                {
                                    "state": "Wisconsin",
                                    "avg_sales": "296.8898095238097"
                                },
                                {
                                    "state": "Delaware",
                                    "avg_sales": "293.79568817204296"
                                },
                                {
                                    "state": "District of Columbia",
                                    "avg_sales": "286.502"
                                },
                                {
                                    "state": "New Jersey",
                                    "avg_sales": "283.6964918032788"
                                },
                                {
                                    "state": "New York",
                                    "avg_sales": "279.2717839562449"
                                },
                                {
                                    "state": "Georgia",
                                    "avg_sales": "272.4243502824859"
                                },
                                {
                                    "state": "New Hampshire",
                                    "avg_sales": "270.09348148148143"
                                },
                                {
                                    "state": "Washington",
                                    "avg_sales": "268.26755952380944"
                                },
                                {
                                    "state": "Kentucky",
                                    "avg_sales": "266.1196350364962"
                                },
                                {
                                    "state": "Florida",
                                    "avg_sales": "237.09526005361917"
                                },
                                {
                                    "state": "California",
                                    "avg_sales": "229.34556192189157"
                                },
                                {
                                    "state": "Maryland",
                                    "avg_sales": "225.76688571428573"
                                },
                                {
                                    "state": "North Carolina",
                                    "avg_sales": "223.34398380566793"
                                },
                                {
                                    "state": "Louisiana",
                                    "avg_sales": "222.7085365853659"
                                },
                                {
                                    "state": "Massachusetts",
                                    "avg_sales": "212.10691851851848"
                                },
                                {
                                    "state": "Utah",
                                    "avg_sales": "211.69916981132076"
                                },
                                {
                                    "state": "Idaho",
                                    "avg_sales": "208.68980952380952"
                                },
                                {
                                    "state": "Mississippi",
                                    "avg_sales": "203.2328301886792"
                                },
                                {
                                    "state": "South Carolina",
                                    "avg_sales": "201.94547619047617"
                                }
                            ]
                        },
                        "text/html": "<table><tr><th>state</th><th>avg_sales</th></tr><tr><td>Wyoming</td><td>1603.136</td></tr><tr><td>Vermont</td><td>811.7609090909092</td></tr><tr><td>Nevada</td><td>428.9513333333334</td></tr><tr><td>Rhode Island</td><td>409.5459272727271</td></tr><tr><td>Montana</td><td>372.6234666666665</td></tr><tr><td>Indiana</td><td>360.8770370370372</td></tr><tr><td>Missouri</td><td>336.44166666666666</td></tr><tr><td>Minnesota</td><td>335.541011235955</td></tr><tr><td>Alabama</td><td>319.8465573770491</td></tr><tr><td>Virginia</td><td>315.3425000000001</td></tr><tr><td>West Virginia</td><td>302.456</td></tr><tr><td>Michigan</td><td>300.9330988142294</td></tr><tr><td>Oklahoma</td><td>298.2331818181818</td></tr><tr><td>Wisconsin</td><td>296.8898095238097</td></tr><tr><td>Delaware</td><td>293.79568817204296</td></tr><tr><td>District of Columbia</td><td>286.502</td></tr><tr><td>New Jersey</td><td>283.6964918032788</td></tr><tr><td>New York</td><td>279.2717839562449</td></tr><tr><td>Georgia</td><td>272.4243502824859</td></tr><tr><td>New Hampshire</td><td>270.09348148148143</td></tr><tr><td>Washington</td><td>268.26755952380944</td></tr><tr><td>Kentucky</td><td>266.1196350364962</td></tr><tr><td>Florida</td><td>237.09526005361917</td></tr><tr><td>California</td><td>229.34556192189157</td></tr><tr><td>Maryland</td><td>225.76688571428573</td></tr><tr><td>North Carolina</td><td>223.34398380566793</td></tr><tr><td>Louisiana</td><td>222.7085365853659</td></tr><tr><td>Massachusetts</td><td>212.10691851851848</td></tr><tr><td>Utah</td><td>211.69916981132076</td></tr><tr><td>Idaho</td><td>208.68980952380952</td></tr><tr><td>Mississippi</td><td>203.2328301886792</td></tr><tr><td>South Carolina</td><td>201.94547619047617</td></tr></table>"
                    },
                    "metadata": {}
                }
            ],
            "execution_count": 60
        },
        {
            "cell_type": "markdown",
            "source": [
                ""
            ],
            "metadata": {
                "language": "sql",
                "azdata_cell_guid": "06b77a49-4feb-4186-ad2a-eea7a2efe297"
            }
        },
        {
            "cell_type": "code",
            "source": [
                "SELECT [state], AVG(sales) as avg_sales\r\n",
                "FROM sandbox.train_daria\r\n",
                "GROUP BY [state]\r\n",
                "HAVING AVG(sales) > 200\r\n",
                "ORDER BY AVG(sales) ASC;"
            ],
            "metadata": {
                "language": "sql",
                "azdata_cell_guid": "71971e16-c2d9-47c5-8805-0fa2e4023b45"
            },
            "outputs": [
                {
                    "output_type": "display_data",
                    "data": {
                        "text/html": "(32 rows affected)"
                    },
                    "metadata": {}
                },
                {
                    "output_type": "display_data",
                    "data": {
                        "text/html": "Total execution time: 00:00:00.085"
                    },
                    "metadata": {}
                },
                {
                    "output_type": "execute_result",
                    "execution_count": 61,
                    "data": {
                        "application/vnd.dataresource+json": {
                            "schema": {
                                "fields": [
                                    {
                                        "name": "state"
                                    },
                                    {
                                        "name": "avg_sales"
                                    }
                                ]
                            },
                            "data": [
                                {
                                    "state": "South Carolina",
                                    "avg_sales": "201.94547619047617"
                                },
                                {
                                    "state": "Mississippi",
                                    "avg_sales": "203.2328301886792"
                                },
                                {
                                    "state": "Idaho",
                                    "avg_sales": "208.68980952380952"
                                },
                                {
                                    "state": "Utah",
                                    "avg_sales": "211.69916981132076"
                                },
                                {
                                    "state": "Massachusetts",
                                    "avg_sales": "212.10691851851848"
                                },
                                {
                                    "state": "Louisiana",
                                    "avg_sales": "222.7085365853659"
                                },
                                {
                                    "state": "North Carolina",
                                    "avg_sales": "223.34398380566793"
                                },
                                {
                                    "state": "Maryland",
                                    "avg_sales": "225.76688571428573"
                                },
                                {
                                    "state": "California",
                                    "avg_sales": "229.34556192189157"
                                },
                                {
                                    "state": "Florida",
                                    "avg_sales": "237.09526005361917"
                                },
                                {
                                    "state": "Kentucky",
                                    "avg_sales": "266.1196350364962"
                                },
                                {
                                    "state": "Washington",
                                    "avg_sales": "268.26755952380944"
                                },
                                {
                                    "state": "New Hampshire",
                                    "avg_sales": "270.09348148148143"
                                },
                                {
                                    "state": "Georgia",
                                    "avg_sales": "272.4243502824859"
                                },
                                {
                                    "state": "New York",
                                    "avg_sales": "279.2717839562449"
                                },
                                {
                                    "state": "New Jersey",
                                    "avg_sales": "283.6964918032788"
                                },
                                {
                                    "state": "District of Columbia",
                                    "avg_sales": "286.502"
                                },
                                {
                                    "state": "Delaware",
                                    "avg_sales": "293.79568817204296"
                                },
                                {
                                    "state": "Wisconsin",
                                    "avg_sales": "296.8898095238097"
                                },
                                {
                                    "state": "Oklahoma",
                                    "avg_sales": "298.2331818181818"
                                },
                                {
                                    "state": "Michigan",
                                    "avg_sales": "300.9330988142294"
                                },
                                {
                                    "state": "West Virginia",
                                    "avg_sales": "302.456"
                                },
                                {
                                    "state": "Virginia",
                                    "avg_sales": "315.3425000000001"
                                },
                                {
                                    "state": "Alabama",
                                    "avg_sales": "319.8465573770491"
                                },
                                {
                                    "state": "Minnesota",
                                    "avg_sales": "335.541011235955"
                                },
                                {
                                    "state": "Missouri",
                                    "avg_sales": "336.44166666666666"
                                },
                                {
                                    "state": "Indiana",
                                    "avg_sales": "360.8770370370372"
                                },
                                {
                                    "state": "Montana",
                                    "avg_sales": "372.6234666666665"
                                },
                                {
                                    "state": "Rhode Island",
                                    "avg_sales": "409.5459272727271"
                                },
                                {
                                    "state": "Nevada",
                                    "avg_sales": "428.9513333333334"
                                },
                                {
                                    "state": "Vermont",
                                    "avg_sales": "811.7609090909092"
                                },
                                {
                                    "state": "Wyoming",
                                    "avg_sales": "1603.136"
                                }
                            ]
                        },
                        "text/html": "<table><tr><th>state</th><th>avg_sales</th></tr><tr><td>South Carolina</td><td>201.94547619047617</td></tr><tr><td>Mississippi</td><td>203.2328301886792</td></tr><tr><td>Idaho</td><td>208.68980952380952</td></tr><tr><td>Utah</td><td>211.69916981132076</td></tr><tr><td>Massachusetts</td><td>212.10691851851848</td></tr><tr><td>Louisiana</td><td>222.7085365853659</td></tr><tr><td>North Carolina</td><td>223.34398380566793</td></tr><tr><td>Maryland</td><td>225.76688571428573</td></tr><tr><td>California</td><td>229.34556192189157</td></tr><tr><td>Florida</td><td>237.09526005361917</td></tr><tr><td>Kentucky</td><td>266.1196350364962</td></tr><tr><td>Washington</td><td>268.26755952380944</td></tr><tr><td>New Hampshire</td><td>270.09348148148143</td></tr><tr><td>Georgia</td><td>272.4243502824859</td></tr><tr><td>New York</td><td>279.2717839562449</td></tr><tr><td>New Jersey</td><td>283.6964918032788</td></tr><tr><td>District of Columbia</td><td>286.502</td></tr><tr><td>Delaware</td><td>293.79568817204296</td></tr><tr><td>Wisconsin</td><td>296.8898095238097</td></tr><tr><td>Oklahoma</td><td>298.2331818181818</td></tr><tr><td>Michigan</td><td>300.9330988142294</td></tr><tr><td>West Virginia</td><td>302.456</td></tr><tr><td>Virginia</td><td>315.3425000000001</td></tr><tr><td>Alabama</td><td>319.8465573770491</td></tr><tr><td>Minnesota</td><td>335.541011235955</td></tr><tr><td>Missouri</td><td>336.44166666666666</td></tr><tr><td>Indiana</td><td>360.8770370370372</td></tr><tr><td>Montana</td><td>372.6234666666665</td></tr><tr><td>Rhode Island</td><td>409.5459272727271</td></tr><tr><td>Nevada</td><td>428.9513333333334</td></tr><tr><td>Vermont</td><td>811.7609090909092</td></tr><tr><td>Wyoming</td><td>1603.136</td></tr></table>"
                    },
                    "metadata": {}
                }
            ],
            "execution_count": 61
        },
        {
            "cell_type": "markdown",
            "source": [
                "<span style=\"font-size: 11pt; font-family: Arial, sans-serif; color: rgb(255, 255, 255); background-color: transparent; font-variant-numeric: normal; font-variant-east-asian: normal; vertical-align: baseline; white-space: pre-wrap;\">h. Use WHERE to see only south regions</span>"
            ],
            "metadata": {
                "language": "sql",
                "azdata_cell_guid": "72a807a8-dd05-4ab2-a060-da7dea1f7238"
            },
            "attachments": {}
        },
        {
            "cell_type": "code",
            "source": [
                "SELECT \r\n",
                "    [state], \r\n",
                "    AVG(sales) AS avg_price, \r\n",
                "    region\r\n",
                "FROM sandbox.train_daria \r\n",
                "WHERE region = 'South'\r\n",
                "GROUP BY [state], region\r\n",
                "HAVING AVG(sales) > 200\r\n",
                "ORDER BY AVG(sales) DESC"
            ],
            "metadata": {
                "language": "sql",
                "azdata_cell_guid": "c45b037c-e570-44ef-b599-7d4068f5eb8c"
            },
            "outputs": [
                {
                    "output_type": "display_data",
                    "data": {
                        "text/html": "(9 rows affected)"
                    },
                    "metadata": {}
                },
                {
                    "output_type": "display_data",
                    "data": {
                        "text/html": "Total execution time: 00:00:00.076"
                    },
                    "metadata": {}
                },
                {
                    "output_type": "execute_result",
                    "execution_count": 47,
                    "data": {
                        "application/vnd.dataresource+json": {
                            "schema": {
                                "fields": [
                                    {
                                        "name": "state"
                                    },
                                    {
                                        "name": "avg_price"
                                    },
                                    {
                                        "name": "region"
                                    }
                                ]
                            },
                            "data": [
                                {
                                    "state": "Alabama",
                                    "avg_price": "319.8465573770491",
                                    "region": "South"
                                },
                                {
                                    "state": "Virginia",
                                    "avg_price": "315.3425000000001",
                                    "region": "South"
                                },
                                {
                                    "state": "Georgia",
                                    "avg_price": "272.4243502824859",
                                    "region": "South"
                                },
                                {
                                    "state": "Kentucky",
                                    "avg_price": "266.1196350364962",
                                    "region": "South"
                                },
                                {
                                    "state": "Florida",
                                    "avg_price": "237.09526005361917",
                                    "region": "South"
                                },
                                {
                                    "state": "North Carolina",
                                    "avg_price": "223.34398380566793",
                                    "region": "South"
                                },
                                {
                                    "state": "Louisiana",
                                    "avg_price": "222.7085365853659",
                                    "region": "South"
                                },
                                {
                                    "state": "Mississippi",
                                    "avg_price": "203.2328301886792",
                                    "region": "South"
                                },
                                {
                                    "state": "South Carolina",
                                    "avg_price": "201.94547619047617",
                                    "region": "South"
                                }
                            ]
                        },
                        "text/html": "<table><tr><th>state</th><th>avg_price</th><th>region</th></tr><tr><td>Alabama</td><td>319.8465573770491</td><td>South</td></tr><tr><td>Virginia</td><td>315.3425000000001</td><td>South</td></tr><tr><td>Georgia</td><td>272.4243502824859</td><td>South</td></tr><tr><td>Kentucky</td><td>266.1196350364962</td><td>South</td></tr><tr><td>Florida</td><td>237.09526005361917</td><td>South</td></tr><tr><td>North Carolina</td><td>223.34398380566793</td><td>South</td></tr><tr><td>Louisiana</td><td>222.7085365853659</td><td>South</td></tr><tr><td>Mississippi</td><td>203.2328301886792</td><td>South</td></tr><tr><td>South Carolina</td><td>201.94547619047617</td><td>South</td></tr></table>"
                    },
                    "metadata": {}
                }
            ],
            "execution_count": 47
        },
        {
            "cell_type": "markdown",
            "source": [
                "<span style=\"font-size: 11pt; font-family: Arial, sans-serif; color: rgb(255, 255, 255); background-color: transparent; font-variant-numeric: normal; font-variant-east-asian: normal; vertical-align: baseline; white-space: pre-wrap;\">i. At the end You want to see only TOP 4 records (Remember LIMIT is not going to work SQL server 🙁)&nbsp;</span>"
            ],
            "metadata": {
                "language": "sql",
                "azdata_cell_guid": "a6c4fa65-e122-47af-bb10-a83b56c89974"
            }
        },
        {
            "cell_type": "markdown",
            "source": [
                ""
            ],
            "metadata": {
                "azdata_cell_guid": "651b4b95-1b67-4302-bafc-86f67cae2b69"
            }
        },
        {
            "cell_type": "code",
            "source": [
                "SELECT TOP 4\r\n",
                "    [state], \r\n",
                "    AVG(sales) AS avg_price, \r\n",
                "    region\r\n",
                "FROM sandbox.train_daria \r\n",
                "WHERE region = 'South'\r\n",
                "GROUP BY [state], region\r\n",
                "HAVING AVG(sales) > 200\r\n",
                "ORDER BY AVG(sales) DESC"
            ],
            "metadata": {
                "language": "sql",
                "azdata_cell_guid": "f81d1f14-029b-45e2-b7c7-f1aa89a60c30"
            },
            "outputs": [
                {
                    "output_type": "display_data",
                    "data": {
                        "text/html": "(4 rows affected)"
                    },
                    "metadata": {}
                },
                {
                    "output_type": "display_data",
                    "data": {
                        "text/html": "Total execution time: 00:00:00.078"
                    },
                    "metadata": {}
                },
                {
                    "output_type": "execute_result",
                    "execution_count": 53,
                    "data": {
                        "application/vnd.dataresource+json": {
                            "schema": {
                                "fields": [
                                    {
                                        "name": "state"
                                    },
                                    {
                                        "name": "avg_price"
                                    },
                                    {
                                        "name": "region"
                                    }
                                ]
                            },
                            "data": [
                                {
                                    "state": "Alabama",
                                    "avg_price": "319.8465573770491",
                                    "region": "South"
                                },
                                {
                                    "state": "Virginia",
                                    "avg_price": "315.3425000000001",
                                    "region": "South"
                                },
                                {
                                    "state": "Georgia",
                                    "avg_price": "272.4243502824859",
                                    "region": "South"
                                },
                                {
                                    "state": "Kentucky",
                                    "avg_price": "266.1196350364962",
                                    "region": "South"
                                }
                            ]
                        },
                        "text/html": "<table><tr><th>state</th><th>avg_price</th><th>region</th></tr><tr><td>Alabama</td><td>319.8465573770491</td><td>South</td></tr><tr><td>Virginia</td><td>315.3425000000001</td><td>South</td></tr><tr><td>Georgia</td><td>272.4243502824859</td><td>South</td></tr><tr><td>Kentucky</td><td>266.1196350364962</td><td>South</td></tr></table>"
                    },
                    "metadata": {}
                }
            ],
            "execution_count": 53
        }
    ]
}